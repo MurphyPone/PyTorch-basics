{
 "cells": [
  {
   "cell_type": "code",
   "execution_count": 4,
   "metadata": {
    "tags": []
   },
   "outputs": [
    {
     "output_type": "stream",
     "name": "stdout",
     "text": "Downloading...\nFrom: https://drive.google.com/uc?id=16MIleqoIr1vYxlGk4GKnGmrsCPuWkkpT\nTo: /Users/petermurphy/Documents/PyTorch-basics/exercises/AE-LSTM-AD/ECG5000.zip\n10.6MB [00:00, 12.2MB/s]\n"
    }
   ],
   "source": [
    "!gdown --id 16MIleqoIr1vYxlGk4GKnGmrsCPuWkkpT"
   ]
  },
  {
   "cell_type": "code",
   "execution_count": 6,
   "metadata": {
    "tags": []
   },
   "outputs": [
    {
     "output_type": "stream",
     "name": "stdout",
     "text": "replace ECG5000.txt? [y]es, [n]o, [A]ll, [N]one, [r]ename:"
    }
   ],
   "source": [
    "!unzip -qq ECG5000.zip "
   ]
  },
  {
   "cell_type": "code",
   "execution_count": null,
   "metadata": {},
   "outputs": [],
   "source": [
    "!pip instal -qq arff2pandas"
   ]
  },
  {
   "cell_type": "code",
   "execution_count": null,
   "metadata": {},
   "outputs": [],
   "source": [
    "from sklearn.metrics import confusion_matrix, classification_report\n",
    "import time \n",
    "import copy\n",
    "import shutil\n",
    "\n",
    "from torch import nn, optim \n",
    "import torch.nn.functional as F \n",
    "from torchvision import datasets, transforms, models \n",
    "from arff2pandas import a2p\n",
    "import numpy as np\n",
    "\n",
    "%matplotlib inline \n",
    "%config InlineBackend.figure_format='retina'\n",
    "\n",
    "sns.set(style='whitegrid', palette='muted', font_scale=1.2)\n",
    "\n",
    "PALLETTE = [\"#01BEFE\", \"#FFD00\", \"#FF7D00\", \"#FF006D\", \"8F00FF\"]\n",
    "sns.set_paelette(sns.color_palette(PALLETTE))\n",
    "\n",
    "rcParams['figure.figsize'] = 12, 8\n",
    "\n",
    "RANDOM_SEED = 86\n",
    "np.random.seed(RANDOM_SEED)\n",
    "torch.manual_seed(RANDOM_SEED)"
   ]
  },
  {
   "cell_type": "code",
   "execution_count": null,
   "metadata": {},
   "outputs": [],
   "source": [
    "device = torch.device('cuda' if torch.cude.is_available() else 'cpu')"
   ]
  },
  {
   "cell_type": "code",
   "execution_count": null,
   "metadata": {},
   "outputs": [],
   "source": [
    "with open('ECG5000_TRAIN.arff') as f:\n",
    "    train = a2p.load(f)\n",
    "    "
   ]
  },
  {
   "cell_type": "code",
   "execution_count": null,
   "metadata": {},
   "outputs": [],
   "source": [
    "train.head()"
   ]
  }
 ],
 "metadata": {
  "language_info": {
   "codemirror_mode": {
    "name": "ipython",
    "version": 3
   },
   "file_extension": ".py",
   "mimetype": "text/x-python",
   "name": "python",
   "nbconvert_exporter": "python",
   "pygments_lexer": "ipython3",
   "version": "3.7.3-final"
  },
  "orig_nbformat": 2,
  "kernelspec": {
   "name": "python37364bit86427bd414494d65b7c072d73d4a076b",
   "display_name": "Python 3.7.3 64-bit"
  }
 },
 "nbformat": 4,
 "nbformat_minor": 2
}